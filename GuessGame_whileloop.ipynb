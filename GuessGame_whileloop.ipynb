{
 "cells": [
  {
   "cell_type": "code",
   "execution_count": null,
   "id": "9ab6b500",
   "metadata": {},
   "outputs": [],
   "source": [
    "secret_number = 9\n",
    "Guess_count = 0\n",
    "Guess_limit =3\n",
    "\n",
    "while Guess_count < Guess_limit:\n",
    "    Guess = int(input(\"Guess: \"))\n",
    "    Guess_count+=1\n",
    "    if Guess == secret_number:\n",
    "        print(\"You won\")\n",
    "        break\n",
    "else:\n",
    "    print(\"you faled\")"
   ]
  },
  {
   "cell_type": "code",
   "execution_count": null,
   "id": "8b4786d3",
   "metadata": {},
   "outputs": [],
   "source": []
  }
 ],
 "metadata": {
  "kernelspec": {
   "display_name": "Python 3 (ipykernel)",
   "language": "python",
   "name": "python3"
  },
  "language_info": {
   "codemirror_mode": {
    "name": "ipython",
    "version": 3
   },
   "file_extension": ".py",
   "mimetype": "text/x-python",
   "name": "python",
   "nbconvert_exporter": "python",
   "pygments_lexer": "ipython3",
   "version": "3.9.12"
  }
 },
 "nbformat": 4,
 "nbformat_minor": 5
}
