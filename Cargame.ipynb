{
 "cells": [
  {
   "cell_type": "code",
   "execution_count": null,
   "id": "a595ea77",
   "metadata": {},
   "outputs": [
    {
     "name": "stdout",
     "output_type": "stream",
     "text": [
      "> start\n",
      "car already started\n",
      "> start\n",
      "car already started\n",
      "> stop\n",
      "car stopped\n",
      "> stop\n",
      "car stopped\n"
     ]
    }
   ],
   "source": [
    "command = \"\"\n",
    "has_started = False\n",
    "while command != \"quit\":\n",
    "    command = input(\"> \").lower()\n",
    "    if command == \"start\":\n",
    "        if has_started:\n",
    "            print(\"car started\")\n",
    "        else: \n",
    "            print(\"car already started\")\n",
    "    elif command == \"stop\":\n",
    "        if not has_started:\n",
    "            print(\"car stopped\")\n",
    "        else: \n",
    "            print(\"car already started\")\n",
    "    \n",
    "    elif command ==\"help\":\n",
    "        print(''' start- To start the car'''\n",
    "         \n",
    "''' stop- To stop the car'''\n",
    " ''' quit- To exit''')\n",
    "    elif command  == \"quit\":\n",
    "        break\n",
    "    else:\n",
    "        print(\"sorry, I don't understand that\")"
   ]
  },
  {
   "cell_type": "code",
   "execution_count": null,
   "id": "0280c119",
   "metadata": {},
   "outputs": [],
   "source": []
  }
 ],
 "metadata": {
  "kernelspec": {
   "display_name": "Python 3 (ipykernel)",
   "language": "python",
   "name": "python3"
  },
  "language_info": {
   "codemirror_mode": {
    "name": "ipython",
    "version": 3
   },
   "file_extension": ".py",
   "mimetype": "text/x-python",
   "name": "python",
   "nbconvert_exporter": "python",
   "pygments_lexer": "ipython3",
   "version": "3.9.12"
  }
 },
 "nbformat": 4,
 "nbformat_minor": 5
}
