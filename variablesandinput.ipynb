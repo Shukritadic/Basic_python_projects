{
 "cells": [
  {
   "cell_type": "code",
   "execution_count": 14,
   "id": "e8108602",
   "metadata": {},
   "outputs": [
    {
     "name": "stdout",
     "output_type": "stream",
     "text": [
      "The patients name is John smith\n",
      "The patient age is 20 years old\n"
     ]
    }
   ],
   "source": [
    "name = 'John smith'\n",
    "age = 20\n",
    "is_new = True\n",
    "print(\"The patients name is\"+ \" \" +name)\n",
    "print(f\"The patient age is {age} years old\")"
   ]
  },
  {
   "cell_type": "code",
   "execution_count": 23,
   "id": "ae3a545b",
   "metadata": {},
   "outputs": [
    {
     "name": "stdout",
     "output_type": "stream",
     "text": [
      "what is your name? Ali\n",
      "what is your favourite colour? pink\n",
      "my name is Ali and my favourite color is pink\n"
     ]
    }
   ],
   "source": [
    "name = input (\"what is your name? \")\n",
    "color = input (\"what is your favourite colour? \")\n",
    "print(\"my name is \" +name + \" \" +\"and my favourite color is \" +color)"
   ]
  },
  {
   "cell_type": "code",
   "execution_count": 26,
   "id": "60a11b84",
   "metadata": {},
   "outputs": [
    {
     "name": "stdout",
     "output_type": "stream",
     "text": [
      "birth_year2000\n",
      "19\n"
     ]
    }
   ],
   "source": [
    "#type convesion\n",
    "birth_year = int(input(\"birth_year\"))\n",
    "age = 2019-birth_year\n",
    "print(age)"
   ]
  },
  {
   "cell_type": "code",
   "execution_count": 29,
   "id": "de2bd5f0",
   "metadata": {},
   "outputs": [
    {
     "name": "stdout",
     "output_type": "stream",
     "text": [
      "What is your weight in pounds? 5.9\n",
      "You are 2.6761928 Kg\n"
     ]
    }
   ],
   "source": [
    "# Ask user their weight (in Pounds), Converts to Killograms and prints on the terminal\n",
    "# 1 pound = 0.453592 Kg\n",
    "Weight_in_pound = float(input(\"What is your weight in pounds? \"))-\n",
    "Weight_in_Kg = Weight_in_pound * 0.453592\n",
    "print(f\"You are {Weight_in_Kg} Kg\")"
   ]
  },
  {
   "cell_type": "code",
   "execution_count": null,
   "id": "1d47952c",
   "metadata": {},
   "outputs": [],
   "source": []
  }
 ],
 "metadata": {
  "kernelspec": {
   "display_name": "Python 3 (ipykernel)",
   "language": "python",
   "name": "python3"
  },
  "language_info": {
   "codemirror_mode": {
    "name": "ipython",
    "version": 3
   },
   "file_extension": ".py",
   "mimetype": "text/x-python",
   "name": "python",
   "nbconvert_exporter": "python",
   "pygments_lexer": "ipython3",
   "version": "3.9.12"
  }
 },
 "nbformat": 4,
 "nbformat_minor": 5
}
