{
 "cells": [
  {
   "cell_type": "code",
   "execution_count": 5,
   "id": "5a942902",
   "metadata": {},
   "outputs": [
    {
     "name": "stdout",
     "output_type": "stream",
     "text": [
      "down payment: $200000.0\n"
     ]
    }
   ],
   "source": [
    "price = 1000000 \n",
    "has_good_credit= True\n",
    "if has_good_credit:\n",
    "    down_payment = 0.1*price\n",
    "else:\n",
    "    down_payment = 0.2*price\n",
    "print(f\"down payment: ${down_payment}\")"
   ]
  },
  {
   "cell_type": "code",
   "execution_count": null,
   "id": "f5d24e18",
   "metadata": {},
   "outputs": [],
   "source": []
  }
 ],
 "metadata": {
  "kernelspec": {
   "display_name": "Python 3 (ipykernel)",
   "language": "python",
   "name": "python3"
  },
  "language_info": {
   "codemirror_mode": {
    "name": "ipython",
    "version": 3
   },
   "file_extension": ".py",
   "mimetype": "text/x-python",
   "name": "python",
   "nbconvert_exporter": "python",
   "pygments_lexer": "ipython3",
   "version": "3.9.12"
  }
 },
 "nbformat": 4,
 "nbformat_minor": 5
}
