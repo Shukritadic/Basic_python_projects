{
 "cells": [
  {
   "cell_type": "code",
   "execution_count": null,
   "id": "15c81629",
   "metadata": {},
   "outputs": [],
   "source": [
    "# Indexing in python\n",
    "course = \"Python for beginners\"\n",
    "print(course[6])"
   ]
  },
  {
   "cell_type": "code",
   "execution_count": 6,
   "id": "78d187ca",
   "metadata": {},
   "outputs": [
    {
     "name": "stdout",
     "output_type": "stream",
     "text": [
      "r\n"
     ]
    }
   ],
   "source": [
    "# Negative Indexing in python\n",
    "# The negative index return the values from the end of a string\n",
    "course = \"Python for beginners\"\n",
    "print(course[-2])"
   ]
  },
  {
   "cell_type": "code",
   "execution_count": 2,
   "id": "212cd817",
   "metadata": {},
   "outputs": [
    {
     "name": "stdout",
     "output_type": "stream",
     "text": [
      "yth\n"
     ]
    }
   ],
   "source": [
    "# Extracting few characters from a string Instead of a single character\n",
    "#stops extracting when encounter a space\n",
    "course = \"Python for beginners\"\n",
    "print(course[1:4])"
   ]
  },
  {
   "cell_type": "code",
   "execution_count": 13,
   "id": "0f823dec",
   "metadata": {},
   "outputs": [
    {
     "name": "stdout",
     "output_type": "stream",
     "text": [
      "hon for beginners\n"
     ]
    }
   ],
   "source": [
    "# Not supplying the start index... it will print starting from the start index to end and reverse is true\n",
    "course = \"Python for beginners\"\n",
    "print(course[3:])"
   ]
  },
  {
   "cell_type": "code",
   "execution_count": 19,
   "id": "6b1e1f01",
   "metadata": {},
   "outputs": [
    {
     "name": "stdout",
     "output_type": "stream",
     "text": [
      "John [Smith] is a coder\n"
     ]
    }
   ],
   "source": [
    "#Formated Strings. We use f and insert curly braces to dynamically insert values into a string\n",
    "first_name = 'John'\n",
    "last_name = 'Smith'\n",
    "message = f\"{first_name} [{last_name}] is a coder\"\n",
    "print(message)"
   ]
  },
  {
   "cell_type": "code",
   "execution_count": 20,
   "id": "70b55b7a",
   "metadata": {},
   "outputs": [
    {
     "name": "stdout",
     "output_type": "stream",
     "text": [
      "20\n"
     ]
    }
   ],
   "source": [
    "#String methods, len\n",
    "#Calculate the number of characters in a string. \n",
    "#len is a general purpose as in it can be applied also to list\n",
    "#This is useful when enforcing or limiting the number of characters e.g in a form\n",
    "course = \"Python for beginners\"\n",
    "print(len(course))\n"
   ]
  },
  {
   "cell_type": "code",
   "execution_count": 22,
   "id": "458d0779",
   "metadata": {},
   "outputs": [
    {
     "data": {
      "text/plain": [
       "'python for beginners'"
      ]
     },
     "execution_count": 22,
     "metadata": {},
     "output_type": "execute_result"
    }
   ],
   "source": [
    "#Uppercase and Lowercase methods\n",
    "course = \"Python for beginners\"\n",
    "course.lower()"
   ]
  },
  {
   "cell_type": "code",
   "execution_count": 26,
   "id": "7981d1df",
   "metadata": {},
   "outputs": [
    {
     "name": "stdout",
     "output_type": "stream",
     "text": [
      "0\n"
     ]
    }
   ],
   "source": [
    "#find method... This returns the index of the character being found\n",
    "course = \"Python for beginners\"\n",
    "course.find('P')\n",
    "print(course.find('P'))"
   ]
  },
  {
   "cell_type": "code",
   "execution_count": 28,
   "id": "13fa0424",
   "metadata": {},
   "outputs": [
    {
     "name": "stdout",
     "output_type": "stream",
     "text": [
      "Jython for beginners\n"
     ]
    }
   ],
   "source": [
    "#replace method....This replaces strings of characters with something else\n",
    "course = \"Python for beginners\"\n",
    "print(course.replace('P', 'J'))"
   ]
  },
  {
   "cell_type": "code",
   "execution_count": 32,
   "id": "9504ef41",
   "metadata": {},
   "outputs": [
    {
     "name": "stdout",
     "output_type": "stream",
     "text": [
      "True\n"
     ]
    }
   ],
   "source": [
    "#Boolean Epression in python strings/ Do we have this or not \n",
    "course = \"Python for beginners\"\n",
    "print ('Python' in course)\n"
   ]
  }
 ],
 "metadata": {
  "kernelspec": {
   "display_name": "Python 3 (ipykernel)",
   "language": "python",
   "name": "python3"
  },
  "language_info": {
   "codemirror_mode": {
    "name": "ipython",
    "version": 3
   },
   "file_extension": ".py",
   "mimetype": "text/x-python",
   "name": "python",
   "nbconvert_exporter": "python",
   "pygments_lexer": "ipython3",
   "version": "3.9.12"
  }
 },
 "nbformat": 4,
 "nbformat_minor": 5
}
