{
 "cells": [
  {
   "cell_type": "code",
   "execution_count": 3,
   "id": "46dc078b",
   "metadata": {},
   "outputs": [
    {
     "name": "stdout",
     "output_type": "stream",
     "text": [
      "Enter the firstnameh\n",
      "name must be at least 3 characters\n"
     ]
    }
   ],
   "source": [
    "name = input(\"Enter the firstname\")\n",
    "if len(name) < 3:\n",
    "    print(\"name must be at least 3 characters\")\n",
    "elif len(name) > 50:\n",
    "    print(\"name can be a maximum of 50 characters\")\n",
    "else:\n",
    "    print(\"name looks good\")"
   ]
  },
  {
   "cell_type": "code",
   "execution_count": null,
   "id": "07b0e243",
   "metadata": {},
   "outputs": [],
   "source": []
  },
  {
   "cell_type": "code",
   "execution_count": null,
   "id": "c8642ff4",
   "metadata": {},
   "outputs": [],
   "source": []
  },
  {
   "cell_type": "code",
   "execution_count": null,
   "id": "d26b441b",
   "metadata": {},
   "outputs": [],
   "source": []
  }
 ],
 "metadata": {
  "kernelspec": {
   "display_name": "Python 3 (ipykernel)",
   "language": "python",
   "name": "python3"
  },
  "language_info": {
   "codemirror_mode": {
    "name": "ipython",
    "version": 3
   },
   "file_extension": ".py",
   "mimetype": "text/x-python",
   "name": "python",
   "nbconvert_exporter": "python",
   "pygments_lexer": "ipython3",
   "version": "3.9.12"
  }
 },
 "nbformat": 4,
 "nbformat_minor": 5
}
